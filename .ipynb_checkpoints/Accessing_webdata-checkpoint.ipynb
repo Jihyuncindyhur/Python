{
 "cells": [
  {
   "cell_type": "markdown",
   "metadata": {},
   "source": [
    "## **Accessing Web Data**\n",
    "\n",
    "This notebook is to practice accessing web data. All codings were written by Ji Hyun (Cindy) Hur."
   ]
  },
  {
   "cell_type": "code",
   "execution_count": 2,
   "metadata": {},
   "outputs": [
    {
     "name": "stdout",
     "output_type": "stream",
     "text": [
      "Enter - http://py4e-data.dr-chuck.net/comments_42.html\n",
      "2553\n"
     ]
    }
   ],
   "source": [
    "import urllib.request, urllib.parse, urllib.error\n",
    "from bs4 import BeautifulSoup\n",
    "import ssl\n",
    "\n",
    "ctx = ssl.create_default_context()\n",
    "ctx.check_hostname = False\n",
    "ctx.verify_mode = ssl.CERT_NONE\n",
    "\n",
    "url = input('Enter - ')\n",
    "html = urllib.request.urlopen(url, context=ctx).read()\n",
    "soup = BeautifulSoup(html, 'html.parser') \n",
    "\n",
    "import re\n",
    "\n",
    "number = list()\n",
    "tags = soup('span')\n",
    "for tag in tags:\n",
    "    y = re.findall('[0-9]+', str(tag))\n",
    "    for i in y:\n",
    "        i = int(i)\n",
    "        number.append(i)\n",
    "        s = sum(number)\n",
    "print(s)\n",
    "\n",
    "#Sample URL: http://py4e-data.dr-chuck.net/comments_42.html"
   ]
  },
  {
   "cell_type": "code",
   "execution_count": 2,
   "metadata": {},
   "outputs": [
    {
     "name": "stdout",
     "output_type": "stream",
     "text": [
      "Enter -  http://py4e-data.dr-chuck.net/known_by_Monta.html\n",
      "Enter count:7\n",
      "Enter position:18\n",
      "Retrieving: http://py4e-data.dr-chuck.net/known_by_Tylor.html\n",
      "Retrieving: http://py4e-data.dr-chuck.net/known_by_Melodi.html\n",
      "Retrieving: http://py4e-data.dr-chuck.net/known_by_Kalia.html\n",
      "Retrieving: http://py4e-data.dr-chuck.net/known_by_Cullen.html\n",
      "Retrieving: http://py4e-data.dr-chuck.net/known_by_Alessandro.html\n",
      "Retrieving: http://py4e-data.dr-chuck.net/known_by_Gurveer.html\n",
      "Retrieving: http://py4e-data.dr-chuck.net/known_by_Anureet.html\n"
     ]
    }
   ],
   "source": [
    "import urllib.request, urllib.parse, urllib.error\n",
    "from bs4 import BeautifulSoup\n",
    "import ssl\n",
    "\n",
    "url = input('Enter - ')\n",
    "count = input('Enter count:')\n",
    "position = input('Enter position:')\n",
    "position = int(position)-1\n",
    "count = int(count)\n",
    "\n",
    "\n",
    "ctx = ssl.create_default_context()\n",
    "ctx.check_hostname = False\n",
    "ctx.verify_mode = ssl.CERT_NONE\n",
    "\n",
    "html = urllib.request.urlopen(url, context=ctx).read()\n",
    "soup = BeautifulSoup(html, 'html.parser')\n",
    "tags = soup('a')\n",
    "\n",
    "url = tags[position].get('href', None)\n",
    "\n",
    "repeated = 0 \n",
    "while repeated < count:\n",
    "    repeated = repeated + 1\n",
    "    print('Retrieving:', url)\n",
    "    html = urllib.request.urlopen(url, context=ctx).read()\n",
    "    soup = BeautifulSoup(html, 'html.parser')\n",
    "    tags = soup('a')\n",
    "    url = tags[position].get('href', None)\n",
    "#Sample:  http://py4e-data.dr-chuck.net/known_by_Monta.html"
   ]
  },
  {
   "cell_type": "code",
   "execution_count": 22,
   "metadata": {},
   "outputs": [
    {
     "name": "stdout",
     "output_type": "stream",
     "text": [
      "Enter location:  http://py4e-data.dr-chuck.net/comments_152789.xml\n",
      "Retrieving:  http://py4e-data.dr-chuck.net/comments_152789.xml\n",
      "Retrieved:  4231  characters\n",
      "Count: 50\n",
      "Sum: 2546\n"
     ]
    }
   ],
   "source": [
    "import urllib.request, urllib.parse, urllib.error\n",
    "import xml.etree.ElementTree as ET\n",
    "\n",
    "url = input(\"Enter location: \")\n",
    "print(\"Retrieving:\", url)\n",
    "\n",
    "xml = urllib.request.urlopen(url).read()\n",
    "print(\"Retrieved: \", str(len(xml)), \" characters\")\n",
    "tree = ET.fromstring(xml)\n",
    "\n",
    "counts = tree.findall('.//count')\n",
    "\n",
    "print(\"Count:\", len(counts))\n",
    "\n",
    "add = 0 \n",
    "\n",
    "for count in counts:\n",
    "    a = int(count.text)\n",
    "    add = add + a\n",
    "\n",
    "print(\"Sum:\", add)"
   ]
  },
  {
   "cell_type": "code",
   "execution_count": 20,
   "metadata": {},
   "outputs": [
    {
     "name": "stdout",
     "output_type": "stream",
     "text": [
      "Enter location: http://py4e-data.dr-chuck.net/comments_152790.json\n",
      "Retrieving: http://py4e-data.dr-chuck.net/comments_152790.json\n",
      "Retrieved: 2725  characters\n",
      "Count 50\n",
      "Sum 2485\n"
     ]
    }
   ],
   "source": [
    "import urllib.request, urllib.parse, urllib.error\n",
    "import json\n",
    "\n",
    "url = input(\"Enter location: \")\n",
    "print(\"Retrieving:\", url)\n",
    "\n",
    "data = urllib.request.urlopen(url).read()\n",
    "print(\"Retrieved:\", str(len(data)), \" characters\")\n",
    "\n",
    "info = json.loads(data)\n",
    "#print('User count:', len(info))\n",
    "\n",
    "counts = info[\"comments\"]\n",
    "total = 0\n",
    "count = 0\n",
    "for dict in counts:\n",
    "    total = total + dict[\"count\"]\n",
    "    count = count + 1\n",
    "print(\"Count\", count)\n",
    "print(\"Sum\", total)\n",
    "    "
   ]
  },
  {
   "cell_type": "code",
   "execution_count": null,
   "metadata": {},
   "outputs": [
    {
     "name": "stdout",
     "output_type": "stream",
     "text": [
      "Enter location: University of Hamburg\n",
      "Retrieving http://py4e-data.dr-chuck.net/json?address=University+of+Hamburg&key=42\n",
      "Retrieved 1797 characters\n",
      "ChIJH4su3e7ysUcRdZNDrzkoNlw\n"
     ]
    }
   ],
   "source": [
    "import urllib.request, urllib.parse, urllib.error\n",
    "import json\n",
    "import ssl\n",
    "\n",
    "api_key = False\n",
    "# If you have a Google Places API key, enter it here\n",
    "# api_key = 'AIzaSy___IDByT70'\n",
    "# https://developers.google.com/maps/documentation/geocoding/intro\n",
    "\n",
    "if api_key is False:\n",
    "    api_key = 42\n",
    "    serviceurl = 'http://py4e-data.dr-chuck.net/json?'\n",
    "else :\n",
    "    serviceurl = 'https://maps.googleapis.com/maps/api/geocode/json?'\n",
    "\n",
    "# Ignore SSL certificate errors\n",
    "ctx = ssl.create_default_context()\n",
    "ctx.check_hostname = False\n",
    "ctx.verify_mode = ssl.CERT_NONE\n",
    "\n",
    "while True:\n",
    "    address = input('Enter location: ')\n",
    "    if len(address) < 1: break\n",
    "\n",
    "    parms = dict()\n",
    "    parms['address'] = address\n",
    "    if api_key is not False: parms['key'] = api_key\n",
    "    url = serviceurl + urllib.parse.urlencode(parms)\n",
    "\n",
    "    print('Retrieving', url)\n",
    "    uh = urllib.request.urlopen(url, context=ctx)\n",
    "    data = uh.read().decode()\n",
    "    print('Retrieved', len(data), 'characters')\n",
    "\n",
    "    try:\n",
    "        js = json.loads(data)\n",
    "    except:\n",
    "        js = None\n",
    "\n",
    "    if not js or 'status' not in js or js['status'] != 'OK':\n",
    "        print('==== Failure To Retrieve ====')\n",
    "        print(data)\n",
    "        continue\n",
    "    \n",
    "    print(js['results'][0]['place_id'])\n",
    " "
   ]
  }
 ],
 "metadata": {
  "kernelspec": {
   "display_name": "Python 3",
   "language": "python",
   "name": "python3"
  },
  "language_info": {
   "codemirror_mode": {
    "name": "ipython",
    "version": 3
   },
   "file_extension": ".py",
   "mimetype": "text/x-python",
   "name": "python",
   "nbconvert_exporter": "python",
   "pygments_lexer": "ipython3",
   "version": "3.7.1"
  }
 },
 "nbformat": 4,
 "nbformat_minor": 2
}
